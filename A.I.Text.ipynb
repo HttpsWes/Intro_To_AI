{
 "cells": [
  {
   "cell_type": "markdown",
   "metadata": {},
   "source": []
  },
  {
   "cell_type": "code",
   "execution_count": 12,
   "metadata": {},
   "outputs": [
    {
     "name": "stderr",
     "output_type": "stream",
     "text": [
      "Generate config GenerationConfig {\n",
      "  \"bos_token_id\": 50256,\n",
      "  \"eos_token_id\": 50256,\n",
      "  \"transformers_version\": \"4.26.1\"\n",
      "}\n",
      "\n",
      "loading configuration file generation_config.json from cache at aitextgen/models--gpt2/snapshots/e7da7f221d5bf496a48136c0cd264e630fe9fcc8/generation_config.json\n",
      "Generate config GenerationConfig {\n",
      "  \"_from_model_config\": true,\n",
      "  \"bos_token_id\": 50256,\n",
      "  \"eos_token_id\": 50256,\n",
      "  \"transformers_version\": \"4.26.1\"\n",
      "}\n",
      "\n"
     ]
    }
   ],
   "source": [
    "from aitextgen import aitextgen\n",
    "\n",
    "ai = aitextgen()\n",
    "\n"
   ]
  },
  {
   "cell_type": "code",
   "execution_count": 13,
   "metadata": {},
   "outputs": [
    {
     "name": "stderr",
     "output_type": "stream",
     "text": [
      "Generate config GenerationConfig {\n",
      "  \"bos_token_id\": 50256,\n",
      "  \"eos_token_id\": 50256,\n",
      "  \"transformers_version\": \"4.26.1\"\n",
      "}\n",
      "\n",
      "A decoder-only architecture is being used, but right-padding was detected! For correct generation results, please set `padding_side='left'` when initializing the tokenizer.\n"
     ]
    },
    {
     "name": "stdout",
     "output_type": "stream",
     "text": [
      "A woman held up the sign during a protest outside the Supreme Court of Canada on Thursday, Feb. 15, 2017, in Ottawa, Canada.\n",
      "\n",
      "Police said they have arrested a woman who was arrested for using an unauthorized sign during a protest in Ottawa, Ont., with the intent to burn the Canadian flag. (Chris Wattie/CBC)\n",
      "\n",
      "\"This is just a protest against the government in Ottawa making the flag of Canada,\" said Const. Mary M. Wootton, who is in charge of the Ottawa police force.\n",
      "\n",
      "Police said she was asked to remove her sign at 3:30 p.m. and was arrested several hours later. She was released without charge, according to the police.\n",
      "\n",
      "\"She is now facing charges related to her use of an unauthorized sign,\" Wootton said.\n",
      "\n",
      "She said her arrest was part of a wider crackdown on people who were protesting against the government.\n",
      "\n",
      "\"I think the RCMP should be making some serious arrests. We should be putting people at risk,\" she said.\n",
      "\n",
      "This is just a protest against the government in Ottawa making the flag of Canada. I think the RCMP should be making some serious arrests. — Const. Mary M. Wootton (@MaryM\n",
      "None\n"
     ]
    }
   ],
   "source": [
    "print(ai.generate())"
   ]
  },
  {
   "cell_type": "code",
   "execution_count": 14,
   "metadata": {},
   "outputs": [
    {
     "name": "stderr",
     "output_type": "stream",
     "text": [
      "Generate config GenerationConfig {\n",
      "  \"bos_token_id\": 50256,\n",
      "  \"eos_token_id\": 50256,\n",
      "  \"transformers_version\": \"4.26.1\"\n",
      "}\n",
      "\n"
     ]
    },
    {
     "name": "stdout",
     "output_type": "stream",
     "text": [
      "\u001b[1mI love roblox\u001b[0m but I don't want to play it because you know how it works. So I went to the store and bought my first 2 books which are very good and the second book is the same, so that's what I did. I made a list and I went to the store and bought my second book and after that I went to the store and bought my first book. So I bought my second book and after that I went to the store and bought my second book. And then I went to the store and bought my second book again. And it's just crazy how it works. I'm at first like 'I need you to buy this book. I want to buy this book. I want this book.' And then it's like 'I want this book.' And then I go and they sell it and I go to the store and it's like 'You can't really buy this book. You can't buy this book. You can't buy this book.' And then they sell it and I go to the store and it's like 'You can't really buy this book. You can't buy this book.' And then they sell it and I go to the store and it's like 'You can't really buy this book.\n",
      "None\n"
     ]
    }
   ],
   "source": [
    "print(ai.generate(prompt=\"I love roblox\"))"
   ]
  },
  {
   "cell_type": "code",
   "execution_count": 15,
   "metadata": {},
   "outputs": [
    {
     "name": "stderr",
     "output_type": "stream",
     "text": [
      "Generate config GenerationConfig {\n",
      "  \"bos_token_id\": 50256,\n",
      "  \"eos_token_id\": 50256,\n",
      "  \"transformers_version\": \"4.26.1\"\n",
      "}\n",
      "\n"
     ]
    },
    {
     "name": "stdout",
     "output_type": "stream",
     "text": [
      "\u001b[1mI love roblox\u001b[0m. I love you all.\n",
      "\n",
      "I love your life. I love you in the most beautiful way.\n",
      "\n",
      "I love you all.\n",
      "\n",
      "Like this: Like Loading...\n",
      "None\n"
     ]
    }
   ],
   "source": [
    "print(ai.generate(prompt=\"I love roblox\", max_length=100))"
   ]
  },
  {
   "cell_type": "code",
   "execution_count": 16,
   "metadata": {},
   "outputs": [
    {
     "name": "stderr",
     "output_type": "stream",
     "text": [
      "Generate config GenerationConfig {\n",
      "  \"bos_token_id\": 50256,\n",
      "  \"eos_token_id\": 50256,\n",
      "  \"transformers_version\": \"4.26.1\"\n",
      "}\n",
      "\n"
     ]
    },
    {
     "name": "stdout",
     "output_type": "stream",
     "text": [
      "\u001b[1mI love roblox\u001b[0m, and I'm glad that it's still available.\n",
      "\n",
      "If you enjoyed this post, please share it with friends, and don't forget to follow me on Twitter and Facebook for more posts.\n",
      "\n",
      "I'm looking forward to hearing from you all, and happy to see you here!\n",
      "==========\n",
      "\u001b[1mI love roblox\u001b[0m, and I know that I've not seen the last of them. I'm not sure how many have been killed, but it was good to see them back on TV, and I'm glad to see them back in action.\n",
      "\n",
      "I'm really looking forward to seeing what the future holds for roblox in Season 2. As for the new team, I'm very excited about it. I'm really excited about the people that are in the team, and I\n",
      "==========\n",
      "\u001b[1mI love roblox\u001b[0m, so I am going to take a nap. Good morning, my lady.\"\n",
      "\n",
      "The man continued on his way, walking in front of the cafe.\n",
      "\n",
      "\"How is it?\" he asked, his voice a bit high.\n",
      "\n",
      "\"It's okay, I am here today.\"\n",
      "\n",
      "\"You are welcome?\"\n",
      "\n",
      "\"Yes.\"\n",
      "\n",
      "\"I am quite happy to meet you in person. I am very pleased to meet you.\"\n",
      "\n",
      "\n",
      "None\n"
     ]
    }
   ],
   "source": [
    "print(ai.generate(prompt=\"I love roblox\", max_length=100, n=3 ))"
   ]
  },
  {
   "cell_type": "code",
   "execution_count": 17,
   "metadata": {},
   "outputs": [
    {
     "name": "stderr",
     "output_type": "stream",
     "text": [
      "Generate config GenerationConfig {\n",
      "  \"bos_token_id\": 50256,\n",
      "  \"eos_token_id\": 50256,\n",
      "  \"transformers_version\": \"4.26.1\"\n",
      "}\n",
      "\n"
     ]
    },
    {
     "name": "stdout",
     "output_type": "stream",
     "text": [
      "\u001b[1mUsing Github copilot would be useful because\u001b[0m there is no way to manually upload a project to Github.\n",
      "\n",
      "What we need is a way to get the project to GitHub and then send it to Google Play.\n",
      "\n",
      "Here is a code example:\n",
      "\n",
      "import urllib2 s = GoogleGithub.Http({ 'api/users' => { 'url' => 'https://api.google.com/users/api/users?id=12345&userName=my\n",
      "==========\n",
      "\u001b[1mUsing Github copilot would be useful because\u001b[0m it was easier to make the project work on your system and also make sure that your code base was up to scratch.\n",
      "\n",
      "The main problem with this approach is that it takes a lot of time to build an application. In my case, it took me just 15 minutes to start with the application.\n",
      "\n",
      "An example of my application\n",
      "\n",
      "Using Github copilot would be useful because it was easier to make the project work on your system and also make\n",
      "==========\n",
      "\u001b[1mUsing Github copilot would be useful because\u001b[0m it would enable us to get a handle on how the system works.\n",
      "\n",
      "We would then have to implement the new feature in our own codebase.\n",
      "\n",
      "We would also need to integrate the new feature in our own API.\n",
      "\n",
      "We would then need to maintain new dependencies in our own codebase to keep all our changes safe.\n",
      "\n",
      "Some of these will not be easy to implement, but some of them will be easy to test.\n",
      "\n",
      "None\n"
     ]
    }
   ],
   "source": [
    "print(ai.generate(prompt=\"Using Github copilot would be useful because\", max_length=100, n=3 ))"
   ]
  }
 ],
 "metadata": {
  "kernelspec": {
   "display_name": "Python 3",
   "language": "python",
   "name": "python3"
  },
  "language_info": {
   "codemirror_mode": {
    "name": "ipython",
    "version": 3
   },
   "file_extension": ".py",
   "mimetype": "text/x-python",
   "name": "python",
   "nbconvert_exporter": "python",
   "pygments_lexer": "ipython3",
   "version": "3.9.6"
  },
  "orig_nbformat": 4,
  "vscode": {
   "interpreter": {
    "hash": "31f2aee4e71d21fbe5cf8b01ff0e069b9275f58929596ceb00d14d90e3e16cd6"
   }
  }
 },
 "nbformat": 4,
 "nbformat_minor": 2
}
